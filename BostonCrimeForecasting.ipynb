{
 "cells": [
  {
   "cell_type": "markdown",
   "metadata": {},
   "source": [
    "# Problem Description\n",
    "\n",
    "I will be working with crime incident report data, which is provided by the Boston Police Department (BPD) to document the initial details surrounding an incident to which BPD officers respond. The data runs from June 2015 through May 26, 2020.\n",
    "\n",
    "I am interested in incidents where the \"OFFENSE_DESCRIPTION\" field is coded as either \"VERBAL DISPUTE\" or \"VANDALISM\". My task is to predict the daily aggregate count of each of these incidents between May 27, 2020 and the end of June 2020. \n",
    "\n",
    "\n",
    "## Files\n",
    "\n",
    "Data:\n",
    "    \n",
    "    tmpwo078bva.csv\n",
    "   \n",
    "Supporting files:\n",
    "    \n",
    "    rmsoffensecodes.xlsx\n",
    "    rmscrimeincidentfieldexplanation.xlsx"
   ]
  },
  {
   "cell_type": "code",
   "execution_count": 1,
   "metadata": {},
   "outputs": [],
   "source": [
    "import pandas as pd\n",
    "import numpy as np\n",
    "import matplotlib.pyplot as plt\n",
    "from statsmodels.tsa.seasonal import seasonal_decompose \n",
    "from sklearn.metrics import mean_squared_error\n",
    "from pandas import datetime\n",
    "from pandas.plotting import autocorrelation_plot\n",
    "from statsmodels.tsa.arima_model import ARIMA, ARMA\n",
    "from statsmodels.tsa.stattools import adfuller\n"
   ]
  },
  {
   "cell_type": "markdown",
   "metadata": {},
   "source": [
    "# Problem 1"
   ]
  },
  {
   "cell_type": "markdown",
   "metadata": {},
   "source": [
    "### Read data and split by \"VERBAL DISPUTE\" and \"VANDALISM\""
   ]
  },
  {
   "cell_type": "code",
   "execution_count": 6,
   "metadata": {},
   "outputs": [
    {
     "name": "stdout",
     "output_type": "stream",
     "text": [
      "  INCIDENT_NUMBER  OFFENSE_CODE OFFENSE_CODE_GROUP  \\\n",
      "0       TESTTEST2           423                NaN   \n",
      "1       I92102201          3301                NaN   \n",
      "2       I92097173          3115                NaN   \n",
      "3       I92094519          3126                NaN   \n",
      "4       I92089785          3005                NaN   \n",
      "\n",
      "                          OFFENSE_DESCRIPTION  DISTRICT REPORTING_AREA  \\\n",
      "0                        ASSAULT - AGGRAVATED  External                  \n",
      "1                              VERBAL DISPUTE       E13            583   \n",
      "2                          INVESTIGATE PERSON       C11            355   \n",
      "3  WARRANT ARREST - OUTSIDE OF BOSTON WARRANT       D14            765   \n",
      "4                                 SICK ASSIST       E13            574   \n",
      "\n",
      "  SHOOTING     OCCURRED_ON_DATE  YEAR  MONTH DAY_OF_WEEK  HOUR UCR_PART  \\\n",
      "0        0  2019-10-16 00:00:00  2019     10   Wednesday     0      NaN   \n",
      "1        0  2019-12-20 03:08:00  2019     12      Friday     3      NaN   \n",
      "2        0  2019-10-23 00:00:00  2019     10   Wednesday     0      NaN   \n",
      "3        0  2019-11-22 07:50:00  2019     11      Friday     7      NaN   \n",
      "4        0  2019-11-05 18:00:00  2019     11     Tuesday    18      NaN   \n",
      "\n",
      "          STREET  Lat  Long                  Location  \n",
      "0   RIVERVIEW DR  NaN   NaN  (0.00000000, 0.00000000)  \n",
      "1         DAY ST  NaN   NaN  (0.00000000, 0.00000000)  \n",
      "2      GIBSON ST  NaN   NaN  (0.00000000, 0.00000000)  \n",
      "3      BROOKS ST  NaN   NaN  (0.00000000, 0.00000000)  \n",
      "4  WASHINGTON ST  NaN   NaN  (0.00000000, 0.00000000)  \n"
     ]
    },
    {
     "name": "stderr",
     "output_type": "stream",
     "text": [
      "C:\\Users\\austi\\newAnaconda3\\lib\\site-packages\\ipykernel_launcher.py:10: SettingWithCopyWarning: \n",
      "A value is trying to be set on a copy of a slice from a DataFrame.\n",
      "Try using .loc[row_indexer,col_indexer] = value instead\n",
      "\n",
      "See the caveats in the documentation: http://pandas.pydata.org/pandas-docs/stable/user_guide/indexing.html#returning-a-view-versus-a-copy\n",
      "  # Remove the CWD from sys.path while we load stuff.\n",
      "C:\\Users\\austi\\newAnaconda3\\lib\\site-packages\\ipykernel_launcher.py:11: SettingWithCopyWarning: \n",
      "A value is trying to be set on a copy of a slice from a DataFrame.\n",
      "Try using .loc[row_indexer,col_indexer] = value instead\n",
      "\n",
      "See the caveats in the documentation: http://pandas.pydata.org/pandas-docs/stable/user_guide/indexing.html#returning-a-view-versus-a-copy\n",
      "  # This is added back by InteractiveShellApp.init_path()\n",
      "C:\\Users\\austi\\newAnaconda3\\lib\\site-packages\\ipykernel_launcher.py:17: SettingWithCopyWarning: \n",
      "A value is trying to be set on a copy of a slice from a DataFrame.\n",
      "Try using .loc[row_indexer,col_indexer] = value instead\n",
      "\n",
      "See the caveats in the documentation: http://pandas.pydata.org/pandas-docs/stable/user_guide/indexing.html#returning-a-view-versus-a-copy\n",
      "C:\\Users\\austi\\newAnaconda3\\lib\\site-packages\\ipykernel_launcher.py:18: SettingWithCopyWarning: \n",
      "A value is trying to be set on a copy of a slice from a DataFrame.\n",
      "Try using .loc[row_indexer,col_indexer] = value instead\n",
      "\n",
      "See the caveats in the documentation: http://pandas.pydata.org/pandas-docs/stable/user_guide/indexing.html#returning-a-view-versus-a-copy\n"
     ]
    }
   ],
   "source": [
    "df = pd.read_csv('tmpwo078bva.csv')\n",
    "print(df.head())\n",
    "\n",
    "# Split dataframe by OFFENSE_DESCRIPTION\n",
    "df = df[['OCCURRED_ON_DATE', 'OFFENSE_DESCRIPTION']].copy()\n",
    "df_verb_dist = df[df['OFFENSE_DESCRIPTION'] == 'VERBAL DISPUTE']\n",
    "df_vandalism = df[df['OFFENSE_DESCRIPTION'] == 'VANDALISM']\n",
    "\n",
    "# Aggregate total number of each offense by day\n",
    "df_verb_dist['NUMBER_OF_OFFENSES'] = 1\n",
    "df_verb_dist['date'] = pd.DatetimeIndex(df_verb_dist.OCCURRED_ON_DATE).normalize()\n",
    "df_verb_dist = df_verb_dist.drop(['OCCURRED_ON_DATE'], axis=1)\n",
    "df_verb_dist = df_verb_dist.groupby(df_verb_dist['date'], as_index=False).aggregate({'NUMBER_OF_OFFENSES': 'sum'})\n",
    "df_verb_dist.index = df_verb_dist.date\n",
    "df_verb_dist = df_verb_dist.drop(['date'], axis=1)\n",
    "\n",
    "df_vandalism['NUMBER_OF_OFFENSES'] = 1\n",
    "df_vandalism['date'] = pd.DatetimeIndex(df_vandalism.OCCURRED_ON_DATE).normalize()\n",
    "df_vandalism = df_vandalism.drop(['OCCURRED_ON_DATE'], axis=1)\n",
    "df_vandalism = df_vandalism.groupby(df_vandalism['date'], as_index=False).aggregate({'NUMBER_OF_OFFENSES': 'sum'})\n",
    "df_vandalism.index = df_vandalism.date\n",
    "df_vandalism = df_vandalism.drop(['date'], axis=1)\n",
    "\n",
    "forecast_dates = pd.date_range(start='5/27/2020', end='6/30/2020')"
   ]
  },
  {
   "cell_type": "code",
   "execution_count": 7,
   "metadata": {},
   "outputs": [
    {
     "name": "stdout",
     "output_type": "stream",
     "text": [
      "            NUMBER_OF_OFFENSES\n",
      "date                          \n",
      "2015-06-15                   6\n",
      "2015-06-16                   7\n",
      "2015-06-17                   8\n",
      "2015-06-18                   4\n",
      "2015-06-19                  10\n",
      "            NUMBER_OF_OFFENSES\n",
      "date                          \n",
      "2015-06-15                  16\n",
      "2015-06-16                  13\n",
      "2015-06-17                  12\n",
      "2015-06-18                  13\n",
      "2015-06-19                   3\n"
     ]
    }
   ],
   "source": [
    "print(df_verb_dist.head())\n",
    "print(df_vandalism.head())"
   ]
  },
  {
   "cell_type": "markdown",
   "metadata": {},
   "source": [
    "As we can see, the mean and variance of a contiguous split of each dataset shows the series is potentially non-stationary. With a little more analysis, the ADF statistics is low enough for the vandalism series to where we can safely assume the dataset is stationary. That was not the case with the verbal dispute data, the ADF statistic is a bit higher than the critical values. We will make the data stationary by applying one order of differencing."
   ]
  },
  {
   "cell_type": "code",
   "execution_count": 8,
   "metadata": {},
   "outputs": [
    {
     "name": "stdout",
     "output_type": "stream",
     "text": [
      "mean1=10.774336283185841, mean2=14.766592920353983\n",
      "variance1=15.188013940010965, variance2=37.98423794933041\n",
      "\n",
      "\n",
      "ADF Statistic: -1.969615952912287\n",
      "p-value: 0.300052247236776\n",
      "Critical Values:\n",
      "\t1%: -3.434\n",
      "\t5%: -2.863\n",
      "\t10%: -2.568\n"
     ]
    }
   ],
   "source": [
    "series = df_verb_dist\n",
    "X = series.values\n",
    "split = round(len(X) / 2)\n",
    "X1, X2 = X[0:split], X[split:]\n",
    "mean1, mean2 = X1.mean(), X2.mean()\n",
    "var1, var2 = X1.var(), X2.var()\n",
    "print('mean1={}, mean2={}'.format(mean1, mean2))\n",
    "print('variance1={}, variance2={}'.format(var1, var2))\n",
    "print('\\n')\n",
    "result = adfuller(X)\n",
    "print('ADF Statistic: {}'.format(result[0]))\n",
    "print('p-value: {}'.format(result[1]))\n",
    "print('Critical Values:')\n",
    "for key, value in result[4].items():\n",
    "    print('\\t%s: %.3f' % (key, value))"
   ]
  },
  {
   "cell_type": "code",
   "execution_count": 9,
   "metadata": {},
   "outputs": [
    {
     "name": "stdout",
     "output_type": "stream",
     "text": [
      "mean1=13.429203539823009, mean2=10.863938053097344\n",
      "variance1=22.282598480695434, variance2=17.341000420941345\n",
      "\n",
      "\n",
      "ADF Statistic: -5.489745161599168\n",
      "p-value: 2.18882676205463e-06\n",
      "Critical Values:\n",
      "\t1%: -3.434\n",
      "\t5%: -2.863\n",
      "\t10%: -2.568\n"
     ]
    }
   ],
   "source": [
    "series = df_vandalism\n",
    "X = series.values\n",
    "split = round(len(X) / 2)\n",
    "X1, X2 = X[0:split], X[split:]\n",
    "mean1, mean2 = X1.mean(), X2.mean()\n",
    "var1, var2 = X1.var(), X2.var()\n",
    "print('mean1={}, mean2={}'.format(mean1, mean2))\n",
    "print('variance1={}, variance2={}'.format(var1, var2))\n",
    "print('\\n')\n",
    "result = adfuller(X)\n",
    "print('ADF Statistic: {}'.format(result[0]))\n",
    "print('p-value: {}'.format(result[1]))\n",
    "print('Critical Values:')\n",
    "for key, value in result[4].items():\n",
    "    print('\\t%s: %.3f' % (key, value))"
   ]
  },
  {
   "cell_type": "markdown",
   "metadata": {},
   "source": [
    "## Verbal Disputes"
   ]
  },
  {
   "cell_type": "markdown",
   "metadata": {},
   "source": [
    "The residuals appear to be normally distributed about 0, so we will proceed"
   ]
  },
  {
   "cell_type": "code",
   "execution_count": 10,
   "metadata": {},
   "outputs": [
    {
     "name": "stderr",
     "output_type": "stream",
     "text": [
      "C:\\Users\\austi\\newAnaconda3\\lib\\site-packages\\statsmodels\\tsa\\arima_model.py:472: FutureWarning: \n",
      "statsmodels.tsa.arima_model.ARMA and statsmodels.tsa.arima_model.ARIMA have\n",
      "been deprecated in favor of statsmodels.tsa.arima.model.ARIMA (note the .\n",
      "between arima and model) and\n",
      "statsmodels.tsa.SARIMAX. These will be removed after the 0.12 release.\n",
      "\n",
      "statsmodels.tsa.arima.model.ARIMA makes use of the statespace framework and\n",
      "is both well tested and maintained.\n",
      "\n",
      "To silence this warning and continue using ARMA and ARIMA until they are\n",
      "removed, use:\n",
      "\n",
      "import warnings\n",
      "warnings.filterwarnings('ignore', 'statsmodels.tsa.arima_model.ARMA',\n",
      "                        FutureWarning)\n",
      "warnings.filterwarnings('ignore', 'statsmodels.tsa.arima_model.ARIMA',\n",
      "                        FutureWarning)\n",
      "\n",
      "  warnings.warn(ARIMA_DEPRECATION_WARN, FutureWarning)\n",
      "C:\\Users\\austi\\newAnaconda3\\lib\\site-packages\\statsmodels\\tsa\\base\\tsa_model.py:527: ValueWarning: No frequency information was provided, so inferred frequency D will be used.\n",
      "  % freq, ValueWarning)\n",
      "C:\\Users\\austi\\newAnaconda3\\lib\\site-packages\\statsmodels\\tsa\\base\\tsa_model.py:527: ValueWarning: No frequency information was provided, so inferred frequency D will be used.\n",
      "  % freq, ValueWarning)\n"
     ]
    },
    {
     "name": "stdout",
     "output_type": "stream",
     "text": [
      "                              ARIMA Model Results                               \n",
      "================================================================================\n",
      "Dep. Variable:     D.NUMBER_OF_OFFENSES   No. Observations:                 1807\n",
      "Model:                   ARIMA(5, 1, 0)   Log Likelihood               -5114.844\n",
      "Method:                         css-mle   S.D. of innovations              4.102\n",
      "Date:                  Mon, 19 Oct 2020   AIC                          10243.689\n",
      "Time:                          15:34:31   BIC                          10282.185\n",
      "Sample:                      06-16-2015   HQIC                         10257.896\n",
      "                           - 05-26-2020                                         \n",
      "==============================================================================================\n",
      "                                 coef    std err          z      P>|z|      [0.025      0.975]\n",
      "----------------------------------------------------------------------------------------------\n",
      "const                          0.0062      0.029      0.216      0.829      -0.050       0.062\n",
      "ar.L1.D.NUMBER_OF_OFFENSES    -0.7915      0.023    -33.985      0.000      -0.837      -0.746\n",
      "ar.L2.D.NUMBER_OF_OFFENSES    -0.6533      0.029    -22.424      0.000      -0.710      -0.596\n",
      "ar.L3.D.NUMBER_OF_OFFENSES    -0.4653      0.031    -14.982      0.000      -0.526      -0.404\n",
      "ar.L4.D.NUMBER_OF_OFFENSES    -0.2897      0.029     -9.942      0.000      -0.347      -0.233\n",
      "ar.L5.D.NUMBER_OF_OFFENSES    -0.1740      0.023     -7.461      0.000      -0.220      -0.128\n",
      "                                    Roots                                    \n",
      "=============================================================================\n",
      "                  Real          Imaginary           Modulus         Frequency\n",
      "-----------------------------------------------------------------------------\n",
      "AR.1            0.5885           -1.2748j            1.4041           -0.1812\n",
      "AR.2            0.5885           +1.2748j            1.4041            0.1812\n",
      "AR.3           -1.4370           -0.0000j            1.4370           -0.5000\n",
      "AR.4           -0.7024           -1.2389j            1.4241           -0.3321\n",
      "AR.5           -0.7024           +1.2389j            1.4241            0.3321\n",
      "-----------------------------------------------------------------------------\n"
     ]
    },
    {
     "data": {
      "image/png": "[encoded data removed]",
      "text/plain": [
       "<Figure size 432x288 with 1 Axes>"
      ]
     },
     "metadata": {
      "needs_background": "light"
     },
     "output_type": "display_data"
    },
    {
     "data": {
      "image/png": "[encoded data removed]",
      "text/plain": [
       "<Figure size 432x288 with 1 Axes>"
      ]
     },
     "metadata": {
      "needs_background": "light"
     },
     "output_type": "display_data"
    },
    {
     "name": "stdout",
     "output_type": "stream",
     "text": [
      "                 0\n",
      "count  1807.000000\n",
      "mean      0.000904\n",
      "std       4.102881\n",
      "min     -17.198744\n",
      "25%      -2.588096\n",
      "50%      -0.295092\n",
      "75%       2.533252\n",
      "max      14.210133\n",
      "1808 1807\n"
     ]
    }
   ],
   "source": [
    "# fit model\n",
    "series = df_verb_dist\n",
    "model = ARIMA(series, order=(5,1,0))\n",
    "model_fit = model.fit(disp=0)\n",
    "print(model_fit.summary())\n",
    "# plot residual errors\n",
    "residuals = pd.DataFrame(model_fit.resid)\n",
    "plt.scatter(np.arange(0, len(residuals)),residuals)\n",
    "plt.show()\n",
    "residuals.plot(kind='kde')\n",
    "plt.show()\n",
    "print(residuals.describe())\n",
    "print(len(series), len(residuals))"
   ]
  },
  {
   "cell_type": "code",
   "execution_count": 11,
   "metadata": {},
   "outputs": [
    {
     "name": "stderr",
     "output_type": "stream",
     "text": [
      "C:\\Users\\austi\\newAnaconda3\\lib\\site-packages\\statsmodels\\tsa\\arima_model.py:472: FutureWarning: \n",
      "statsmodels.tsa.arima_model.ARMA and statsmodels.tsa.arima_model.ARIMA have\n",
      "been deprecated in favor of statsmodels.tsa.arima.model.ARIMA (note the .\n",
      "between arima and model) and\n",
      "statsmodels.tsa.SARIMAX. These will be removed after the 0.12 release.\n",
      "\n",
      "statsmodels.tsa.arima.model.ARIMA makes use of the statespace framework and\n",
      "is both well tested and maintained.\n",
      "\n",
      "To silence this warning and continue using ARMA and ARIMA until they are\n",
      "removed, use:\n",
      "\n",
      "import warnings\n",
      "warnings.filterwarnings('ignore', 'statsmodels.tsa.arima_model.ARMA',\n",
      "                        FutureWarning)\n",
      "warnings.filterwarnings('ignore', 'statsmodels.tsa.arima_model.ARIMA',\n",
      "                        FutureWarning)\n",
      "\n",
      "  warnings.warn(ARIMA_DEPRECATION_WARN, FutureWarning)\n"
     ]
    },
    {
     "name": "stdout",
     "output_type": "stream",
     "text": [
      "Test MSE: 21.84673050434441\n"
     ]
    }
   ],
   "source": [
    "series = df_verb_dist\n",
    "X = series.values\n",
    "size = int(len(X) * 0.66)\n",
    "train_vd, test_vd = X[0:size], X[size:len(X)]\n",
    "history_vd = [x for x in train_vd]\n",
    "predictions_vd = list()\n",
    "# parameters can be adjusted. Given more time, I would do more analysis to optimize them better.\n",
    "for t in range(len(test_vd)):\n",
    "    model = ARIMA(history_vd, order=(7,1,1))\n",
    "    model_fit = model.fit(disp=0)\n",
    "    output = model_fit.forecast()\n",
    "    yhat = output[0]\n",
    "    predictions_vd.append(yhat)\n",
    "    obs = test_vd[t]\n",
    "    history_vd.append(obs)\n",
    "error_vd = mean_squared_error(test_vd, predictions_vd)\n",
    "print('Test MSE: {}'.format(error_vd))\n"
   ]
  },
  {
   "cell_type": "code",
   "execution_count": 12,
   "metadata": {},
   "outputs": [
    {
     "name": "stderr",
     "output_type": "stream",
     "text": [
      "C:\\Users\\austi\\newAnaconda3\\lib\\site-packages\\statsmodels\\tsa\\arima_model.py:472: FutureWarning: \n",
      "statsmodels.tsa.arima_model.ARMA and statsmodels.tsa.arima_model.ARIMA have\n",
      "been deprecated in favor of statsmodels.tsa.arima.model.ARIMA (note the .\n",
      "between arima and model) and\n",
      "statsmodels.tsa.SARIMAX. These will be removed after the 0.12 release.\n",
      "\n",
      "statsmodels.tsa.arima.model.ARIMA makes use of the statespace framework and\n",
      "is both well tested and maintained.\n",
      "\n",
      "To silence this warning and continue using ARMA and ARIMA until they are\n",
      "removed, use:\n",
      "\n",
      "import warnings\n",
      "warnings.filterwarnings('ignore', 'statsmodels.tsa.arima_model.ARMA',\n",
      "                        FutureWarning)\n",
      "warnings.filterwarnings('ignore', 'statsmodels.tsa.arima_model.ARIMA',\n",
      "                        FutureWarning)\n",
      "\n",
      "  warnings.warn(ARIMA_DEPRECATION_WARN, FutureWarning)\n"
     ]
    }
   ],
   "source": [
    "# create a differenced series\n",
    "def difference(dataset, interval=1):\n",
    "    diff = list()\n",
    "    for i in range(interval, len(dataset)):\n",
    "        value = dataset[i] - dataset[i - interval]\n",
    "        diff.append(value)\n",
    "    return np.array(diff)\n",
    " \n",
    "# invert differenced value\n",
    "def inverse_difference(history, yhat, interval=1):\n",
    "    return yhat + history[-interval]\n",
    "\n",
    "# seasonal difference\n",
    "X = series.values\n",
    "year = 365\n",
    "differenced = difference(X, year)\n",
    "# fit model\n",
    "model = ARIMA(differenced, order=(7,1,1))\n",
    "model_fit = model.fit(disp=0)\n",
    "# out-of-sample forecast\n",
    "forecast = model_fit.forecast(steps=35)[0]\n",
    "history = [x for x in X]\n",
    "out_of_sample_forecast_vd = []\n",
    "for yhat in forecast:\n",
    "    inverted = inverse_difference(history, yhat, year)\n",
    "    out_of_sample_forecast_vd.append(inverted)\n",
    "    history.append(inverted)\n"
   ]
  },
  {
   "cell_type": "code",
   "execution_count": 13,
   "metadata": {},
   "outputs": [
    {
     "data": {
      "image/png": "[encoded data removed]",
      "text/plain": [
       "<Figure size 432x288 with 1 Axes>"
      ]
     },
     "metadata": {
      "needs_background": "light"
     },
     "output_type": "display_data"
    }
   ],
   "source": [
    "# plot\n",
    "dates = list(df_verb_dist.index)\n",
    "plt.plot(dates[len(train_vd):], test_vd, color='blue', label=\"Expected Crime Occurences\")\n",
    "plt.plot(dates[len(train_vd):], predictions_vd, color='red', label=\"Predicted Crime Occurences\")\n",
    "plt.plot(forecast_dates, out_of_sample_forecast_vd, color=\"Green\", label='Forecasted Crime Occurences')\n",
    "plt.ylabel('Number of Verbal Disputes')\n",
    "plt.xlabel('Date')\n",
    "plt.title('Verbal Disputes Per Day')\n",
    "plt.legend(loc='upper left')\n",
    "plt.show()\n"
   ]
  },
  {
   "cell_type": "markdown",
   "metadata": {},
   "source": [
    "## Vandalism"
   ]
  },
  {
   "cell_type": "markdown",
   "metadata": {},
   "source": [
    "The residuals appear to be normally distributed about 0, so we will proceed"
   ]
  },
  {
   "cell_type": "code",
   "execution_count": 14,
   "metadata": {},
   "outputs": [
    {
     "name": "stderr",
     "output_type": "stream",
     "text": [
      "C:\\Users\\austi\\newAnaconda3\\lib\\site-packages\\statsmodels\\tsa\\base\\tsa_model.py:527: ValueWarning: No frequency information was provided, so inferred frequency D will be used.\n",
      "  % freq, ValueWarning)\n"
     ]
    },
    {
     "name": "stdout",
     "output_type": "stream",
     "text": [
      "                              ARMA Model Results                              \n",
      "==============================================================================\n",
      "Dep. Variable:     NUMBER_OF_OFFENSES   No. Observations:                 1808\n",
      "Model:                     ARMA(5, 0)   Log Likelihood               -5247.591\n",
      "Method:                       css-mle   S.D. of innovations              4.408\n",
      "Date:                Mon, 19 Oct 2020   AIC                          10509.182\n",
      "Time:                        16:00:33   BIC                          10547.682\n",
      "Sample:                    06-15-2015   HQIC                         10523.390\n",
      "                         - 05-26-2020                                         \n",
      "============================================================================================\n",
      "                               coef    std err          z      P>|z|      [0.025      0.975]\n",
      "--------------------------------------------------------------------------------------------\n",
      "const                       12.1392      0.196     61.841      0.000      11.754      12.524\n",
      "ar.L1.NUMBER_OF_OFFENSES     0.2251      0.023      9.586      0.000       0.179       0.271\n",
      "ar.L2.NUMBER_OF_OFFENSES     0.0507      0.024      2.109      0.035       0.004       0.098\n",
      "ar.L3.NUMBER_OF_OFFENSES     0.0848      0.024      3.535      0.000       0.038       0.132\n",
      "ar.L4.NUMBER_OF_OFFENSES     0.0391      0.024      1.625      0.104      -0.008       0.086\n",
      "ar.L5.NUMBER_OF_OFFENSES     0.0728      0.024      3.097      0.002       0.027       0.119\n",
      "                                    Roots                                    \n",
      "=============================================================================\n",
      "                  Real          Imaginary           Modulus         Frequency\n",
      "-----------------------------------------------------------------------------\n",
      "AR.1            1.3240           -0.0000j            1.3240           -0.0000\n",
      "AR.2            0.4945           -1.6880j            1.7590           -0.2046\n",
      "AR.3            0.4945           +1.6880j            1.7590            0.2046\n",
      "AR.4           -1.4249           -1.1501j            1.8311           -0.3919\n",
      "AR.5           -1.4249           +1.1501j            1.8311            0.3919\n",
      "-----------------------------------------------------------------------------\n"
     ]
    },
    {
     "data": {
      "image/png": "[encoded data removed]",
      "text/plain": [
       "<Figure size 432x288 with 1 Axes>"
      ]
     },
     "metadata": {
      "needs_background": "light"
     },
     "output_type": "display_data"
    },
    {
     "data": {
      "image/png": "[encoded data removed]",
      "text/plain": [
       "<Figure size 432x288 with 1 Axes>"
      ]
     },
     "metadata": {
      "needs_background": "light"
     },
     "output_type": "display_data"
    },
    {
     "name": "stdout",
     "output_type": "stream",
     "text": [
      "                 0\n",
      "count  1808.000000\n",
      "mean     -0.001047\n",
      "std       4.409450\n",
      "min     -11.895398\n",
      "25%      -3.141654\n",
      "50%      -0.446724\n",
      "75%       2.652433\n",
      "max      22.909243\n"
     ]
    }
   ],
   "source": [
    "# fit model\n",
    "series = df_vandalism\n",
    "model = ARIMA(series, order=(5,0,0))\n",
    "model_fit = model.fit(disp=0)\n",
    "print(model_fit.summary())\n",
    "# plot residual errors\n",
    "residuals = pd.DataFrame(model_fit.resid)\n",
    "plt.scatter(np.arange(0, len(residuals)),residuals)\n",
    "plt.show()\n",
    "residuals.plot(kind='kde')\n",
    "plt.show()\n",
    "print(residuals.describe())"
   ]
  },
  {
   "cell_type": "code",
   "execution_count": 15,
   "metadata": {},
   "outputs": [
    {
     "name": "stderr",
     "output_type": "stream",
     "text": [
      "C:\\Users\\austi\\newAnaconda3\\lib\\site-packages\\statsmodels\\tsa\\arima_model.py:472: FutureWarning: \n",
      "statsmodels.tsa.arima_model.ARMA and statsmodels.tsa.arima_model.ARIMA have\n",
      "been deprecated in favor of statsmodels.tsa.arima.model.ARIMA (note the .\n",
      "between arima and model) and\n",
      "statsmodels.tsa.SARIMAX. These will be removed after the 0.12 release.\n",
      "\n",
      "statsmodels.tsa.arima.model.ARIMA makes use of the statespace framework and\n",
      "is both well tested and maintained.\n",
      "\n",
      "To silence this warning and continue using ARMA and ARIMA until they are\n",
      "removed, use:\n",
      "\n",
      "import warnings\n",
      "warnings.filterwarnings('ignore', 'statsmodels.tsa.arima_model.ARMA',\n",
      "                        FutureWarning)\n",
      "warnings.filterwarnings('ignore', 'statsmodels.tsa.arima_model.ARIMA',\n",
      "                        FutureWarning)\n",
      "\n",
      "  warnings.warn(ARIMA_DEPRECATION_WARN, FutureWarning)\n"
     ]
    },
    {
     "name": "stdout",
     "output_type": "stream",
     "text": [
      "Test MSE: 17.85081425959931\n"
     ]
    }
   ],
   "source": [
    "series = df_vandalism\n",
    "X = series.values\n",
    "# size = int(len(X) * 0.66)\n",
    "train_vand, test_vand = X[0:size], X[size:len(X)]\n",
    "history_vand = [x for x in train_vand]\n",
    "predictions_vand = list()\n",
    "for t in range(len(test_vand)):\n",
    "    model = ARIMA(history_vand, order=(5,0,0))\n",
    "    model_fit = model.fit(disp=0)\n",
    "    output = model_fit.forecast()\n",
    "    yhat = output[0]\n",
    "    predictions_vand.append(yhat)\n",
    "    obs = test_vand[t]\n",
    "    history_vand.append(obs)\n",
    "error = mean_squared_error(test_vand, predictions_vand)\n",
    "print('Test MSE: {}'.format(error))\n"
   ]
  },
  {
   "cell_type": "code",
   "execution_count": 16,
   "metadata": {},
   "outputs": [
    {
     "name": "stderr",
     "output_type": "stream",
     "text": [
      "C:\\Users\\austi\\newAnaconda3\\lib\\site-packages\\statsmodels\\tsa\\arima_model.py:472: FutureWarning: \n",
      "statsmodels.tsa.arima_model.ARMA and statsmodels.tsa.arima_model.ARIMA have\n",
      "been deprecated in favor of statsmodels.tsa.arima.model.ARIMA (note the .\n",
      "between arima and model) and\n",
      "statsmodels.tsa.SARIMAX. These will be removed after the 0.12 release.\n",
      "\n",
      "statsmodels.tsa.arima.model.ARIMA makes use of the statespace framework and\n",
      "is both well tested and maintained.\n",
      "\n",
      "To silence this warning and continue using ARMA and ARIMA until they are\n",
      "removed, use:\n",
      "\n",
      "import warnings\n",
      "warnings.filterwarnings('ignore', 'statsmodels.tsa.arima_model.ARMA',\n",
      "                        FutureWarning)\n",
      "warnings.filterwarnings('ignore', 'statsmodels.tsa.arima_model.ARIMA',\n",
      "                        FutureWarning)\n",
      "\n",
      "  warnings.warn(ARIMA_DEPRECATION_WARN, FutureWarning)\n"
     ]
    },
    {
     "data": {
      "image/png": "[encoded data removed]",
      "text/plain": [
       "<Figure size 432x288 with 1 Axes>"
      ]
     },
     "metadata": {
      "needs_background": "light"
     },
     "output_type": "display_data"
    }
   ],
   "source": [
    "# seasonal difference\n",
    "X = series.values\n",
    "differenced = difference(X, year)\n",
    "# fit model\n",
    "model = ARIMA(differenced, order=(7,0,1))\n",
    "model_fit = model.fit(disp=0)\n",
    "# out-of-sample forecast\n",
    "forecast = model_fit.forecast(steps=35)[0]\n",
    "history = [x for x in X]\n",
    "out_of_sample_forecast_vand = []\n",
    "for yhat in forecast:\n",
    "    inverted = inverse_difference(history, yhat, year)\n",
    "    out_of_sample_forecast_vand.append(inverted)\n",
    "    history.append(inverted)\n",
    "\n",
    "\n",
    "# plot\n",
    "plt.plot(dates[len(train_vand):], test_vand, color='blue', label=\"True Crime Occurences\")\n",
    "plt.plot(dates[len(train_vand):], predictions_vand, color='red', label=\"Predicted Crime Occurences\")\n",
    "plt.plot(forecast_dates, out_of_sample_forecast_vand, color=\"Green\", label='Forecasted Crime Occurences')\n",
    "plt.legend(loc='upper right')\n",
    "plt.ylabel('Number of Acts of Vandalism')\n",
    "plt.xlabel('Date')\n",
    "plt.title('Vandalism Per Day')\n",
    "plt.show()"
   ]
  },
  {
   "cell_type": "code",
   "execution_count": 17,
   "metadata": {},
   "outputs": [],
   "source": [
    "vd_forecast = [i[0] for i in out_of_sample_forecast_vd]\n",
    "vand_forecast = [i[0] for i in out_of_sample_forecast_vand]"
   ]
  },
  {
   "cell_type": "code",
   "execution_count": 18,
   "metadata": {},
   "outputs": [],
   "source": [
    "df = pd.DataFrame()\n",
    "df['Dates'] = forecast_dates\n",
    "df['VERBAL DISPUTE'] = vd_forecast\n",
    "df['VANDALISM'] = vand_forecast\n",
    "df.index = df.Dates\n",
    "df = df.drop(['Dates'], axis=1)"
   ]
  },
  {
   "cell_type": "markdown",
   "metadata": {},
   "source": [
    "### Below is the predicted daily count of Verbal Disputes and Vandalism for 5/27/2020 through 6/30/2020"
   ]
  },
  {
   "cell_type": "code",
   "execution_count": 19,
   "metadata": {},
   "outputs": [
    {
     "data": {
      "text/html": [
       "<div>\n",
       "<style scoped>\n",
       "    .dataframe tbody tr th:only-of-type {\n",
       "        vertical-align: middle;\n",
       "    }\n",
       "\n",
       "    .dataframe tbody tr th {\n",
       "        vertical-align: top;\n",
       "    }\n",
       "\n",
       "    .dataframe thead th {\n",
       "        text-align: right;\n",
       "    }\n",
       "</style>\n",
       "<table border=\"1\" class=\"dataframe\">\n",
       "  <thead>\n",
       "    <tr style=\"text-align: right;\">\n",
       "      <th></th>\n",
       "      <th>VERBAL DISPUTE</th>\n",
       "      <th>VANDALISM</th>\n",
       "    </tr>\n",
       "    <tr>\n",
       "      <th>Dates</th>\n",
       "      <th></th>\n",
       "      <th></th>\n",
       "    </tr>\n",
       "  </thead>\n",
       "  <tbody>\n",
       "    <tr>\n",
       "      <td>2020-05-27</td>\n",
       "      <td>21.980927</td>\n",
       "      <td>9.886555</td>\n",
       "    </tr>\n",
       "    <tr>\n",
       "      <td>2020-05-28</td>\n",
       "      <td>23.964180</td>\n",
       "      <td>1.974845</td>\n",
       "    </tr>\n",
       "    <tr>\n",
       "      <td>2020-05-29</td>\n",
       "      <td>20.287916</td>\n",
       "      <td>3.922149</td>\n",
       "    </tr>\n",
       "    <tr>\n",
       "      <td>2020-05-30</td>\n",
       "      <td>18.785733</td>\n",
       "      <td>3.094162</td>\n",
       "    </tr>\n",
       "    <tr>\n",
       "      <td>2020-05-31</td>\n",
       "      <td>26.956630</td>\n",
       "      <td>10.243998</td>\n",
       "    </tr>\n",
       "    <tr>\n",
       "      <td>2020-06-01</td>\n",
       "      <td>17.866087</td>\n",
       "      <td>9.107697</td>\n",
       "    </tr>\n",
       "    <tr>\n",
       "      <td>2020-06-02</td>\n",
       "      <td>19.502198</td>\n",
       "      <td>4.057416</td>\n",
       "    </tr>\n",
       "    <tr>\n",
       "      <td>2020-06-03</td>\n",
       "      <td>19.287851</td>\n",
       "      <td>7.153823</td>\n",
       "    </tr>\n",
       "    <tr>\n",
       "      <td>2020-06-04</td>\n",
       "      <td>20.311536</td>\n",
       "      <td>8.268237</td>\n",
       "    </tr>\n",
       "    <tr>\n",
       "      <td>2020-06-05</td>\n",
       "      <td>20.144927</td>\n",
       "      <td>9.374679</td>\n",
       "    </tr>\n",
       "    <tr>\n",
       "      <td>2020-06-06</td>\n",
       "      <td>22.275687</td>\n",
       "      <td>6.478003</td>\n",
       "    </tr>\n",
       "    <tr>\n",
       "      <td>2020-06-07</td>\n",
       "      <td>23.339518</td>\n",
       "      <td>7.575101</td>\n",
       "    </tr>\n",
       "    <tr>\n",
       "      <td>2020-06-08</td>\n",
       "      <td>15.249826</td>\n",
       "      <td>9.662105</td>\n",
       "    </tr>\n",
       "    <tr>\n",
       "      <td>2020-06-09</td>\n",
       "      <td>23.256367</td>\n",
       "      <td>5.741890</td>\n",
       "    </tr>\n",
       "    <tr>\n",
       "      <td>2020-06-10</td>\n",
       "      <td>28.305787</td>\n",
       "      <td>3.817307</td>\n",
       "    </tr>\n",
       "    <tr>\n",
       "      <td>2020-06-11</td>\n",
       "      <td>23.298714</td>\n",
       "      <td>6.889043</td>\n",
       "    </tr>\n",
       "    <tr>\n",
       "      <td>2020-06-12</td>\n",
       "      <td>16.293536</td>\n",
       "      <td>8.957293</td>\n",
       "    </tr>\n",
       "    <tr>\n",
       "      <td>2020-06-13</td>\n",
       "      <td>20.310685</td>\n",
       "      <td>9.022280</td>\n",
       "    </tr>\n",
       "    <tr>\n",
       "      <td>2020-06-14</td>\n",
       "      <td>22.315912</td>\n",
       "      <td>10.084119</td>\n",
       "    </tr>\n",
       "    <tr>\n",
       "      <td>2020-06-15</td>\n",
       "      <td>23.313751</td>\n",
       "      <td>5.142863</td>\n",
       "    </tr>\n",
       "    <tr>\n",
       "      <td>2020-06-16</td>\n",
       "      <td>30.319980</td>\n",
       "      <td>6.198617</td>\n",
       "    </tr>\n",
       "    <tr>\n",
       "      <td>2020-06-17</td>\n",
       "      <td>21.326680</td>\n",
       "      <td>13.251526</td>\n",
       "    </tr>\n",
       "    <tr>\n",
       "      <td>2020-06-18</td>\n",
       "      <td>26.329484</td>\n",
       "      <td>10.301738</td>\n",
       "    </tr>\n",
       "    <tr>\n",
       "      <td>2020-06-19</td>\n",
       "      <td>20.333578</td>\n",
       "      <td>4.349394</td>\n",
       "    </tr>\n",
       "    <tr>\n",
       "      <td>2020-06-20</td>\n",
       "      <td>31.338898</td>\n",
       "      <td>6.394627</td>\n",
       "    </tr>\n",
       "    <tr>\n",
       "      <td>2020-06-21</td>\n",
       "      <td>23.343033</td>\n",
       "      <td>11.437564</td>\n",
       "    </tr>\n",
       "    <tr>\n",
       "      <td>2020-06-22</td>\n",
       "      <td>16.346987</td>\n",
       "      <td>12.478322</td>\n",
       "    </tr>\n",
       "    <tr>\n",
       "      <td>2020-06-23</td>\n",
       "      <td>28.351555</td>\n",
       "      <td>22.517011</td>\n",
       "    </tr>\n",
       "    <tr>\n",
       "      <td>2020-06-24</td>\n",
       "      <td>19.355977</td>\n",
       "      <td>7.553737</td>\n",
       "    </tr>\n",
       "    <tr>\n",
       "      <td>2020-06-25</td>\n",
       "      <td>32.360176</td>\n",
       "      <td>13.588599</td>\n",
       "    </tr>\n",
       "    <tr>\n",
       "      <td>2020-06-26</td>\n",
       "      <td>27.364530</td>\n",
       "      <td>16.621690</td>\n",
       "    </tr>\n",
       "    <tr>\n",
       "      <td>2020-06-27</td>\n",
       "      <td>20.368926</td>\n",
       "      <td>9.653102</td>\n",
       "    </tr>\n",
       "    <tr>\n",
       "      <td>2020-06-28</td>\n",
       "      <td>32.373228</td>\n",
       "      <td>8.682919</td>\n",
       "    </tr>\n",
       "    <tr>\n",
       "      <td>2020-06-29</td>\n",
       "      <td>18.377544</td>\n",
       "      <td>5.711222</td>\n",
       "    </tr>\n",
       "    <tr>\n",
       "      <td>2020-06-30</td>\n",
       "      <td>30.381898</td>\n",
       "      <td>14.738088</td>\n",
       "    </tr>\n",
       "  </tbody>\n",
       "</table>\n",
       "</div>"
      ],
      "text/plain": [
       "            VERBAL DISPUTE  VANDALISM\n",
       "Dates                                \n",
       "2020-05-27       21.980927   9.886555\n",
       "2020-05-28       23.964180   1.974845\n",
       "2020-05-29       20.287916   3.922149\n",
       "2020-05-30       18.785733   3.094162\n",
       "2020-05-31       26.956630  10.243998\n",
       "2020-06-01       17.866087   9.107697\n",
       "2020-06-02       19.502198   4.057416\n",
       "2020-06-03       19.287851   7.153823\n",
       "2020-06-04       20.311536   8.268237\n",
       "2020-06-05       20.144927   9.374679\n",
       "2020-06-06       22.275687   6.478003\n",
       "2020-06-07       23.339518   7.575101\n",
       "2020-06-08       15.249826   9.662105\n",
       "2020-06-09       23.256367   5.741890\n",
       "2020-06-10       28.305787   3.817307\n",
       "2020-06-11       23.298714   6.889043\n",
       "2020-06-12       16.293536   8.957293\n",
       "2020-06-13       20.310685   9.022280\n",
       "2020-06-14       22.315912  10.084119\n",
       "2020-06-15       23.313751   5.142863\n",
       "2020-06-16       30.319980   6.198617\n",
       "2020-06-17       21.326680  13.251526\n",
       "2020-06-18       26.329484  10.301738\n",
       "2020-06-19       20.333578   4.349394\n",
       "2020-06-20       31.338898   6.394627\n",
       "2020-06-21       23.343033  11.437564\n",
       "2020-06-22       16.346987  12.478322\n",
       "2020-06-23       28.351555  22.517011\n",
       "2020-06-24       19.355977   7.553737\n",
       "2020-06-25       32.360176  13.588599\n",
       "2020-06-26       27.364530  16.621690\n",
       "2020-06-27       20.368926   9.653102\n",
       "2020-06-28       32.373228   8.682919\n",
       "2020-06-29       18.377544   5.711222\n",
       "2020-06-30       30.381898  14.738088"
      ]
     },
     "execution_count": 19,
     "metadata": {},
     "output_type": "execute_result"
    }
   ],
   "source": [
    "df.to_csv('Crime_Predictions.csv')\n",
    "df"
   ]
  }
 ],
 "metadata": {
  "kernelspec": {
   "display_name": "Python 3",
   "language": "python",
   "name": "python3"
  },
  "language_info": {
   "codemirror_mode": {
    "name": "ipython",
    "version": 3
   },
   "file_extension": ".py",
   "mimetype": "text/x-python",
   "name": "python",
   "nbconvert_exporter": "python",
   "pygments_lexer": "ipython3",
   "version": "3.7.4"
  }
 },
 "nbformat": 4,
 "nbformat_minor": 2
}
